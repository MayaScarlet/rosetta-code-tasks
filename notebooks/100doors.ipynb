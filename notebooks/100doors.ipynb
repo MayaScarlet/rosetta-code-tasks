{
 "cells": [
  {
   "cell_type": "code",
   "execution_count": 10,
   "id": "be77dc49",
   "metadata": {},
   "outputs": [],
   "source": [
    "# Initially, all doors are closed. Not counting the door at index 0.\n",
    "doors = [False] * 101"
   ]
  },
  {
   "cell_type": "code",
   "execution_count": 5,
   "id": "6b0b8242",
   "metadata": {},
   "outputs": [
    {
     "name": "stdout",
     "output_type": "stream",
     "text": [
      "[1, 4, 9, 16, 25, 36, 49, 64, 81, 100]\n",
      "[2, 3, 5, 6, 7, 8, 10, 11, 12, 13, 14, 15, 17, 18, 19, 20, 21, 22, 23, 24, 26, 27, 28, 29, 30, 31, 32, 33, 34, 35, 37, 38, 39, 40, 41, 42, 43, 44, 45, 46, 47, 48, 50, 51, 52, 53, 54, 55, 56, 57, 58, 59, 60, 61, 62, 63, 65, 66, 67, 68, 69, 70, 71, 72, 73, 74, 75, 76, 77, 78, 79, 80, 82, 83, 84, 85, 86, 87, 88, 89, 90, 91, 92, 93, 94, 95, 96, 97, 98, 99]\n"
     ]
    }
   ],
   "source": [
    "# Checking state of each door at the end\n",
    "# if True, door is open\n",
    "# if False, door is closed\n",
    "\n",
    "for i in range(1, 101):\n",
    "    for j in range(i, 101, i):\n",
    "        doors[j] = not doors[j]\n",
    "\n",
    "open_doors = []\n",
    "closed_doors = []\n",
    "for i in range(1, 101):\n",
    "    if doors[i]:\n",
    "        open_doors.append(i)\n",
    "    else:\n",
    "        closed_doors.append(i)\n",
    "print(open_doors)\n",
    "print(closed_doors)"
   ]
  },
  {
   "cell_type": "code",
   "execution_count": null,
   "id": "d333b0bf",
   "metadata": {},
   "outputs": [],
   "source": []
  }
 ],
 "metadata": {
  "kernelspec": {
   "display_name": "Python 3 (ipykernel)",
   "language": "python",
   "name": "python3"
  },
  "language_info": {
   "codemirror_mode": {
    "name": "ipython",
    "version": 3
   },
   "file_extension": ".py",
   "mimetype": "text/x-python",
   "name": "python",
   "nbconvert_exporter": "python",
   "pygments_lexer": "ipython3",
   "version": "3.9.4"
  }
 },
 "nbformat": 4,
 "nbformat_minor": 5
}
